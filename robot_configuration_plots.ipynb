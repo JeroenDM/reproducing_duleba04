{
 "cells": [
  {
   "cell_type": "markdown",
   "metadata": {},
   "source": [
    "## Requirements\n",
    "- numpy (1.13.0)\n",
    "- scipy (0.19.0)\n",
    "- matplotlib (2.0.2)"
   ]
  },
  {
   "cell_type": "code",
   "execution_count": 3,
   "metadata": {
    "collapsed": true
   },
   "outputs": [],
   "source": [
    "import numpy as np\n",
    "import matplotlib.pyplot as plt\n",
    "import robot1 as r1\n",
    "from util import *\n",
    "from planning_algorithms import *\n",
    "\n",
    "D2R = np.pi / 180.0 # conversion constant from deg to rad"
   ]
  },
  {
   "cell_type": "code",
   "execution_count": 4,
   "metadata": {
    "collapsed": true
   },
   "outputs": [],
   "source": [
    "# generate three cartesian path in 2D, given in the paper on p. 639\n",
    "xa, xb, xc = generate_example_paths()\n",
    "\n",
    "# initial joint configuration for the three paths, also on p. 639\n",
    "qa_init = np.array([ 0, 20]) * D2R\n",
    "qb_init = np.array([20, 20]) * D2R\n",
    "qc_init = np.array([40, 20]) * D2R"
   ]
  },
  {
   "cell_type": "code",
   "execution_count": 5,
   "metadata": {},
   "outputs": [
    {
     "data": {
      "text/plain": [
       "<matplotlib.text.Text at 0x7f17a13a1ed0>"
      ]
     },
     "execution_count": 5,
     "metadata": {},
     "output_type": "execute_result"
    }
   ],
   "source": [
    "# plot initial configuration\n",
    "plt.figure()\n",
    "\n",
    "plt.plot(xa[:, 0], xa[:, 1], 'kx')\n",
    "plt.plot(xb[:, 0], xb[:, 1], 'kx')\n",
    "plt.plot(xc[:, 0], xc[:, 1], 'kx')\n",
    "\n",
    "x2, x1 = r1.fk(qa_init, all_links = True)\n",
    "plt.plot([0, x1[0], x2[0]], [0, x1[1], x2[1]], 'ko-')\n",
    "x2, x1 = r1.fk(qb_init, all_links = True)\n",
    "plt.plot([0, x1[0], x2[0]], [0, x1[1], x2[1]], 'ko-')\n",
    "x2, x1 = r1.fk(qc_init, all_links = True)\n",
    "plt.plot([0, x1[0], x2[0]], [0, x1[1], x2[1]], 'ko-')\n",
    "\n",
    "plt.axis([-2, 2, 0, 2.0])\n",
    "plt.title('Example paths and initial configurations')\n",
    "plt.xlabel('x', fontsize = 14)\n",
    "plt.ylabel('y', fontsize = 14)\n",
    "plt.text(1.7, 0.5, 'A', fontsize = 18)\n",
    "plt.text(1.6, 1.1, 'B', fontsize = 18)\n",
    "plt.text(1.4, 1.6, 'C', fontsize = 18)\n",
    "#plt.show()"
   ]
  },
  {
   "cell_type": "markdown",
   "metadata": {},
   "source": [
    "## Fig. 6: Apply the four algorithms to path A"
   ]
  },
  {
   "cell_type": "code",
   "execution_count": 6,
   "metadata": {},
   "outputs": [],
   "source": [
    "qa_exact = exact_path_following(xa, qa_init, r1.fk)\n",
    "\n",
    "d = 0.5 # maximum deviation for non-exact algorithms\n",
    "\n",
    "# Taylors algorithm also needs an ik solution for the last point!\n",
    "#qa_taylor = taylors_algorithm(xa[0], xa[-1], qa_init, qa_exact[-1], d, r1.fk)\n",
    "\n",
    "qa_opt, xa_opt = local_optimization(xa, qa_init, d, r1.fk, r1.J)\n",
    "\n",
    "qa_sho, xa_sho = trajectory_shortening(xa, qa_exact, d, r1.fk, angle_max = 175.0 * D2R)"
   ]
  },
  {
   "cell_type": "code",
   "execution_count": 9,
   "metadata": {
    "scrolled": true
   },
   "outputs": [
    {
     "data": {
      "text/plain": [
       "<matplotlib.text.Text at 0x7f17a086e150>"
      ]
     },
     "execution_count": 9,
     "metadata": {},
     "output_type": "execute_result"
    }
   ],
   "source": [
    "plt.figure(figsize = (6, 4))\n",
    "\n",
    "plt.subplot(221)\n",
    "plt.axis([-2, 2, -1, 1])\n",
    "for i in range(xa.shape[0]):\n",
    "    x2, x1 = r1.fk(qa_exact[i], all_links = True)\n",
    "    plt.plot([0, x1[0], x2[0]], [0, x1[1], x2[1]], 'k-')\n",
    "plt.plot(xa[:, 0], xa[:, 1], 'ko')\n",
    "plt.xlabel('x')\n",
    "plt.ylabel('y')\n",
    "\n",
    "plt.subplot(222)\n",
    "plt.axis([-2, 2, -1, 1])\n",
    "for i in range(xa.shape[0]):\n",
    "    x2, x1 = r1.fk(qa_opt[i], all_links = True)\n",
    "    plt.plot([0, x1[0], x2[0]], [0, x1[1], x2[1]], 'k-')\n",
    "plt.plot(xa[:, 0], xa[:, 1], 'ko')\n",
    "plt.xlabel('x')\n",
    "plt.ylabel('y')\n",
    "\n",
    "plt.subplot(223)\n",
    "plt.axis([-2, 2, -1, 1])\n",
    "x2, x1 = r1.fk(qa_init, all_links = True)\n",
    "plt.plot([0, x1[0], x2[0]], [0, x1[1], x2[1]], 'k-')\n",
    "plt.plot(xa[:, 0], xa[:, 1], 'ko')\n",
    "plt.xlabel('x')\n",
    "plt.ylabel('y')\n",
    "\n",
    "plt.subplot(224)\n",
    "plt.axis([-2, 2, -1, 1])\n",
    "for i in range(xa.shape[0]):\n",
    "    x2, x1 = r1.fk(qa_sho[i], all_links = True)\n",
    "    plt.plot([0, x1[0], x2[0]], [0, x1[1], x2[1]], 'k-')\n",
    "plt.plot(xa[:, 0], xa[:, 1], 'ko')\n",
    "plt.xlabel('x')\n",
    "plt.ylabel('y')\n",
    "#plt.show()"
   ]
  },
  {
   "cell_type": "code",
   "execution_count": 22,
   "metadata": {},
   "outputs": [
    {
     "name": "stdout",
     "output_type": "stream",
     "text": [
      "Loop 0\n",
      "[array([ 0.        ,  0.34906585]), array([ 2.62836057,  0.66278441])]\n",
      "Error: 2.43308089779\n",
      "Loop 1\n",
      "[array([ 0.        ,  0.34906585]), array([ -9.71423574,  22.33720396]), array([ 2.62836057,  0.66278441])]\n",
      "Error: 1.11401113524\n",
      "Loop 2\n",
      "[array([ 0.        ,  0.34906585]), array([-0.6869834 ,  2.03920619]), array([ -9.71423574,  22.33720396]), array([ 2.62836057,  0.66278441])]\n",
      "Error: 0.254585697667\n",
      "Loop 3\n",
      "[array([ 0.        ,  0.34906585]), array([-0.49006969,  1.43881903]), array([-0.6869834 ,  2.03920619]), array([ -9.71423574,  22.33720396]), array([ 2.62836057,  0.66278441])]\n",
      "Error: 0.0805785709926\n",
      "Loop 4\n",
      "[array([ 0.        ,  0.34906585]), array([-0.24503485,  0.89394244]), array([-0.49006969,  1.43881903]), array([-0.6869834 ,  2.03920619]), array([ -9.71423574,  22.33720396]), array([ 2.62836057,  0.66278441])]\n",
      "Error: 0.225752153743\n"
     ]
    }
   ],
   "source": [
    "from numpy.linalg import norm\n",
    "delta = 0.1 # acceptable deviation from path\n",
    "i = 0 # current point looked at (i to i+1)\n",
    "N = 2 # total number of points in solution\n",
    "\n",
    "# initial solution\n",
    "xsol = [xa[0], xa[-1]]\n",
    "qsol = [qa_init, qa_exact[-1]]\n",
    "\n",
    "max_iter = 100\n",
    "\n",
    "#while(i < (N - 1) and max_iter >= 0):\n",
    "for k in range(5):\n",
    "    max_iter -= 1\n",
    "    \n",
    "    print \"Loop \" + str(k)\n",
    "    # interpolate in joint space\n",
    "    q_mid = (qsol[i] + qsol[i+1]) / 2\n",
    "    x_mid = r1.fk(q_mid)\n",
    "    \n",
    "    # interpolate in cartesian space\n",
    "    x_mid_cart = (xa[i] + xa[i+1]) / 2\n",
    "    \n",
    "    # compare cartesian points\n",
    "    e = norm(x_mid_cart - x_mid)\n",
    "    \n",
    "    print qsol\n",
    "    print \"Error: \" + str(e)\n",
    "    \n",
    "    if e <= delta:\n",
    "        # add point to solution\n",
    "        add_point(xsol, qsol, x_mid, q_mid, i+1)\n",
    "        N += 1\n",
    "        i += 2\n",
    "    else:\n",
    "        # refine grid with ik solver\n",
    "        x_ref, q_ref = refine_grid(xsol, qsol, i, r1.fk)\n",
    "        add_point(xsol, qsol, x_ref, q_ref, i+1)\n",
    "        N +=1\n",
    "        \n",
    "qsol = np.array(qsol)"
   ]
  },
  {
   "cell_type": "code",
   "execution_count": null,
   "metadata": {
    "collapsed": true
   },
   "outputs": [],
   "source": []
  }
 ],
 "metadata": {
  "kernelspec": {
   "display_name": "Python 2",
   "language": "python",
   "name": "python2"
  },
  "language_info": {
   "codemirror_mode": {
    "name": "ipython",
    "version": 2
   },
   "file_extension": ".py",
   "mimetype": "text/x-python",
   "name": "python",
   "nbconvert_exporter": "python",
   "pygments_lexer": "ipython2",
   "version": "2.7.13"
  }
 },
 "nbformat": 4,
 "nbformat_minor": 2
}
